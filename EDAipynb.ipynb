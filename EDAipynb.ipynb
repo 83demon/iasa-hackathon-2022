{
  "nbformat": 4,
  "nbformat_minor": 0,
  "metadata": {
    "colab": {
      "provenance": []
    },
    "kernelspec": {
      "name": "python3",
      "display_name": "Python 3"
    },
    "language_info": {
      "name": "python"
    }
  },
  "cells": [
    {
      "cell_type": "markdown",
      "source": [
        "# EDA"
      ],
      "metadata": {
        "id": "JN8956hY2agx"
      }
    },
    {
      "cell_type": "code",
      "source": [
        "import pandas as pd\n",
        "import seaborn as sb"
      ],
      "metadata": {
        "id": "mBUU7Mt-N5AX"
      },
      "execution_count": 16,
      "outputs": []
    },
    {
      "cell_type": "code",
      "execution_count": 4,
      "metadata": {
        "id": "3a1l9RKkaqe-",
        "colab": {
          "base_uri": "https://localhost:8080/",
          "height": 488
        },
        "outputId": "ad5bd4f5-259b-4dc2-8c55-8295d58eed04"
      },
      "outputs": [
        {
          "output_type": "execute_result",
          "data": {
            "text/plain": [
              "         total_sessions_day0  total_sessions_day1  total_sessions_day3  \\\n",
              "0                        1.0                  1.0                  1.0   \n",
              "1                        1.0                  1.0                  1.0   \n",
              "2                        1.0                  2.0                  2.0   \n",
              "3                        1.0                  1.0                  1.0   \n",
              "4                        1.0                  1.0                  1.0   \n",
              "...                      ...                  ...                  ...   \n",
              "1467827                 11.0                 11.0                 11.0   \n",
              "1467828                  2.0                  3.0                  6.0   \n",
              "1467829                  3.0                  5.0                 11.0   \n",
              "1467830                  5.0                  5.0                  5.0   \n",
              "1467831                  6.0                  7.0                  7.0   \n",
              "\n",
              "         total_sessions_day7  chapters_finished_day0  chapters_finished_day1  \\\n",
              "0                        1.0                       0                       0   \n",
              "1                        1.0                       0                       0   \n",
              "2                        2.0                       0                       0   \n",
              "3                        1.0                       0                       0   \n",
              "4                        1.0                       0                       0   \n",
              "...                      ...                     ...                     ...   \n",
              "1467827                 11.0                       9                       9   \n",
              "1467828                  7.0                       5                       9   \n",
              "1467829                 13.0                       5                       9   \n",
              "1467830                  5.0                      24                      24   \n",
              "1467831                  7.0                      15                      15   \n",
              "\n",
              "         chapters_finished_day3  chapters_finished_day7  chapters_opened_day0  \\\n",
              "0                             0                       0                     0   \n",
              "1                             0                       0                     0   \n",
              "2                             0                       0                     0   \n",
              "3                             0                       0                     0   \n",
              "4                             0                       0                     0   \n",
              "...                         ...                     ...                   ...   \n",
              "1467827                       9                       9                    10   \n",
              "1467828                      11                      13                     6   \n",
              "1467829                      15                      18                     5   \n",
              "1467830                      24                      24                    24   \n",
              "1467831                      15                      15                    15   \n",
              "\n",
              "         chapters_opened_day1  ...  install_date  country_code  ad_ltv_day0  \\\n",
              "0                           0  ...    2021-12-03   COUNTRY_135     0.000000   \n",
              "1                           0  ...    2021-12-03   COUNTRY_141     0.000000   \n",
              "2                           0  ...    2021-12-03   COUNTRY_141     0.000000   \n",
              "3                           0  ...    2021-12-03   COUNTRY_141     0.000000   \n",
              "4                           0  ...    2021-12-03   COUNTRY_203     0.000000   \n",
              "...                       ...  ...           ...           ...          ...   \n",
              "1467827                    10  ...    2021-12-30   COUNTRY_141     0.037158   \n",
              "1467828                    10  ...    2021-12-30   COUNTRY_141     0.039256   \n",
              "1467829                    10  ...    2021-12-30   COUNTRY_141     0.000000   \n",
              "1467830                    24  ...    2021-12-30   COUNTRY_141     0.177550   \n",
              "1467831                    16  ...    2021-12-30   COUNTRY_141     0.114909   \n",
              "\n",
              "         ad_ltv_day1  ad_ltv_day3  platform  target_sub_ltv_day30  \\\n",
              "0           0.000000     0.000000       ios              0.000000   \n",
              "1           0.000000     0.000000   android              0.000000   \n",
              "2           0.000000     0.000000   android              0.000000   \n",
              "3           0.000000     0.000000       ios              0.000000   \n",
              "4           0.000000     0.000000   android              0.000000   \n",
              "...              ...          ...       ...                   ...   \n",
              "1467827     0.037158     0.037158       ios              0.000000   \n",
              "1467828     0.039256     0.091267       ios              4.705161   \n",
              "1467829     0.000000     0.000000       ios              0.000000   \n",
              "1467830     0.177550     0.177550       ios              0.000000   \n",
              "1467831     0.114909     0.114909   android              0.000000   \n",
              "\n",
              "         target_iap_ltv_day30  target_ad_ltv_day30  target_full_ltv_day30  \n",
              "0                    0.000000             0.000000               0.000000  \n",
              "1                    0.000000             0.000000               0.000000  \n",
              "2                    0.000000             0.000000               0.000000  \n",
              "3                    0.000000             0.000000               0.000000  \n",
              "4                    0.000000             0.000000               0.000000  \n",
              "...                       ...                  ...                    ...  \n",
              "1467827              4.174198             0.037158               4.211356  \n",
              "1467828             10.967580             0.091267              15.764008  \n",
              "1467829             14.938221             0.000000              14.938221  \n",
              "1467830              7.402224             0.177550               7.579774  \n",
              "1467831              3.949385             0.114909               4.064295  \n",
              "\n",
              "[1467832 rows x 63 columns]"
            ],
            "text/html": [
              "\n",
              "  <div id=\"df-35f051a6-a10a-4c4d-8f61-ee8c757a92f9\">\n",
              "    <div class=\"colab-df-container\">\n",
              "      <div>\n",
              "<style scoped>\n",
              "    .dataframe tbody tr th:only-of-type {\n",
              "        vertical-align: middle;\n",
              "    }\n",
              "\n",
              "    .dataframe tbody tr th {\n",
              "        vertical-align: top;\n",
              "    }\n",
              "\n",
              "    .dataframe thead th {\n",
              "        text-align: right;\n",
              "    }\n",
              "</style>\n",
              "<table border=\"1\" class=\"dataframe\">\n",
              "  <thead>\n",
              "    <tr style=\"text-align: right;\">\n",
              "      <th></th>\n",
              "      <th>total_sessions_day0</th>\n",
              "      <th>total_sessions_day1</th>\n",
              "      <th>total_sessions_day3</th>\n",
              "      <th>total_sessions_day7</th>\n",
              "      <th>chapters_finished_day0</th>\n",
              "      <th>chapters_finished_day1</th>\n",
              "      <th>chapters_finished_day3</th>\n",
              "      <th>chapters_finished_day7</th>\n",
              "      <th>chapters_opened_day0</th>\n",
              "      <th>chapters_opened_day1</th>\n",
              "      <th>...</th>\n",
              "      <th>install_date</th>\n",
              "      <th>country_code</th>\n",
              "      <th>ad_ltv_day0</th>\n",
              "      <th>ad_ltv_day1</th>\n",
              "      <th>ad_ltv_day3</th>\n",
              "      <th>platform</th>\n",
              "      <th>target_sub_ltv_day30</th>\n",
              "      <th>target_iap_ltv_day30</th>\n",
              "      <th>target_ad_ltv_day30</th>\n",
              "      <th>target_full_ltv_day30</th>\n",
              "    </tr>\n",
              "  </thead>\n",
              "  <tbody>\n",
              "    <tr>\n",
              "      <th>0</th>\n",
              "      <td>1.0</td>\n",
              "      <td>1.0</td>\n",
              "      <td>1.0</td>\n",
              "      <td>1.0</td>\n",
              "      <td>0</td>\n",
              "      <td>0</td>\n",
              "      <td>0</td>\n",
              "      <td>0</td>\n",
              "      <td>0</td>\n",
              "      <td>0</td>\n",
              "      <td>...</td>\n",
              "      <td>2021-12-03</td>\n",
              "      <td>COUNTRY_135</td>\n",
              "      <td>0.000000</td>\n",
              "      <td>0.000000</td>\n",
              "      <td>0.000000</td>\n",
              "      <td>ios</td>\n",
              "      <td>0.000000</td>\n",
              "      <td>0.000000</td>\n",
              "      <td>0.000000</td>\n",
              "      <td>0.000000</td>\n",
              "    </tr>\n",
              "    <tr>\n",
              "      <th>1</th>\n",
              "      <td>1.0</td>\n",
              "      <td>1.0</td>\n",
              "      <td>1.0</td>\n",
              "      <td>1.0</td>\n",
              "      <td>0</td>\n",
              "      <td>0</td>\n",
              "      <td>0</td>\n",
              "      <td>0</td>\n",
              "      <td>0</td>\n",
              "      <td>0</td>\n",
              "      <td>...</td>\n",
              "      <td>2021-12-03</td>\n",
              "      <td>COUNTRY_141</td>\n",
              "      <td>0.000000</td>\n",
              "      <td>0.000000</td>\n",
              "      <td>0.000000</td>\n",
              "      <td>android</td>\n",
              "      <td>0.000000</td>\n",
              "      <td>0.000000</td>\n",
              "      <td>0.000000</td>\n",
              "      <td>0.000000</td>\n",
              "    </tr>\n",
              "    <tr>\n",
              "      <th>2</th>\n",
              "      <td>1.0</td>\n",
              "      <td>2.0</td>\n",
              "      <td>2.0</td>\n",
              "      <td>2.0</td>\n",
              "      <td>0</td>\n",
              "      <td>0</td>\n",
              "      <td>0</td>\n",
              "      <td>0</td>\n",
              "      <td>0</td>\n",
              "      <td>0</td>\n",
              "      <td>...</td>\n",
              "      <td>2021-12-03</td>\n",
              "      <td>COUNTRY_141</td>\n",
              "      <td>0.000000</td>\n",
              "      <td>0.000000</td>\n",
              "      <td>0.000000</td>\n",
              "      <td>android</td>\n",
              "      <td>0.000000</td>\n",
              "      <td>0.000000</td>\n",
              "      <td>0.000000</td>\n",
              "      <td>0.000000</td>\n",
              "    </tr>\n",
              "    <tr>\n",
              "      <th>3</th>\n",
              "      <td>1.0</td>\n",
              "      <td>1.0</td>\n",
              "      <td>1.0</td>\n",
              "      <td>1.0</td>\n",
              "      <td>0</td>\n",
              "      <td>0</td>\n",
              "      <td>0</td>\n",
              "      <td>0</td>\n",
              "      <td>0</td>\n",
              "      <td>0</td>\n",
              "      <td>...</td>\n",
              "      <td>2021-12-03</td>\n",
              "      <td>COUNTRY_141</td>\n",
              "      <td>0.000000</td>\n",
              "      <td>0.000000</td>\n",
              "      <td>0.000000</td>\n",
              "      <td>ios</td>\n",
              "      <td>0.000000</td>\n",
              "      <td>0.000000</td>\n",
              "      <td>0.000000</td>\n",
              "      <td>0.000000</td>\n",
              "    </tr>\n",
              "    <tr>\n",
              "      <th>4</th>\n",
              "      <td>1.0</td>\n",
              "      <td>1.0</td>\n",
              "      <td>1.0</td>\n",
              "      <td>1.0</td>\n",
              "      <td>0</td>\n",
              "      <td>0</td>\n",
              "      <td>0</td>\n",
              "      <td>0</td>\n",
              "      <td>0</td>\n",
              "      <td>0</td>\n",
              "      <td>...</td>\n",
              "      <td>2021-12-03</td>\n",
              "      <td>COUNTRY_203</td>\n",
              "      <td>0.000000</td>\n",
              "      <td>0.000000</td>\n",
              "      <td>0.000000</td>\n",
              "      <td>android</td>\n",
              "      <td>0.000000</td>\n",
              "      <td>0.000000</td>\n",
              "      <td>0.000000</td>\n",
              "      <td>0.000000</td>\n",
              "    </tr>\n",
              "    <tr>\n",
              "      <th>...</th>\n",
              "      <td>...</td>\n",
              "      <td>...</td>\n",
              "      <td>...</td>\n",
              "      <td>...</td>\n",
              "      <td>...</td>\n",
              "      <td>...</td>\n",
              "      <td>...</td>\n",
              "      <td>...</td>\n",
              "      <td>...</td>\n",
              "      <td>...</td>\n",
              "      <td>...</td>\n",
              "      <td>...</td>\n",
              "      <td>...</td>\n",
              "      <td>...</td>\n",
              "      <td>...</td>\n",
              "      <td>...</td>\n",
              "      <td>...</td>\n",
              "      <td>...</td>\n",
              "      <td>...</td>\n",
              "      <td>...</td>\n",
              "      <td>...</td>\n",
              "    </tr>\n",
              "    <tr>\n",
              "      <th>1467827</th>\n",
              "      <td>11.0</td>\n",
              "      <td>11.0</td>\n",
              "      <td>11.0</td>\n",
              "      <td>11.0</td>\n",
              "      <td>9</td>\n",
              "      <td>9</td>\n",
              "      <td>9</td>\n",
              "      <td>9</td>\n",
              "      <td>10</td>\n",
              "      <td>10</td>\n",
              "      <td>...</td>\n",
              "      <td>2021-12-30</td>\n",
              "      <td>COUNTRY_141</td>\n",
              "      <td>0.037158</td>\n",
              "      <td>0.037158</td>\n",
              "      <td>0.037158</td>\n",
              "      <td>ios</td>\n",
              "      <td>0.000000</td>\n",
              "      <td>4.174198</td>\n",
              "      <td>0.037158</td>\n",
              "      <td>4.211356</td>\n",
              "    </tr>\n",
              "    <tr>\n",
              "      <th>1467828</th>\n",
              "      <td>2.0</td>\n",
              "      <td>3.0</td>\n",
              "      <td>6.0</td>\n",
              "      <td>7.0</td>\n",
              "      <td>5</td>\n",
              "      <td>9</td>\n",
              "      <td>11</td>\n",
              "      <td>13</td>\n",
              "      <td>6</td>\n",
              "      <td>10</td>\n",
              "      <td>...</td>\n",
              "      <td>2021-12-30</td>\n",
              "      <td>COUNTRY_141</td>\n",
              "      <td>0.039256</td>\n",
              "      <td>0.039256</td>\n",
              "      <td>0.091267</td>\n",
              "      <td>ios</td>\n",
              "      <td>4.705161</td>\n",
              "      <td>10.967580</td>\n",
              "      <td>0.091267</td>\n",
              "      <td>15.764008</td>\n",
              "    </tr>\n",
              "    <tr>\n",
              "      <th>1467829</th>\n",
              "      <td>3.0</td>\n",
              "      <td>5.0</td>\n",
              "      <td>11.0</td>\n",
              "      <td>13.0</td>\n",
              "      <td>5</td>\n",
              "      <td>9</td>\n",
              "      <td>15</td>\n",
              "      <td>18</td>\n",
              "      <td>5</td>\n",
              "      <td>10</td>\n",
              "      <td>...</td>\n",
              "      <td>2021-12-30</td>\n",
              "      <td>COUNTRY_141</td>\n",
              "      <td>0.000000</td>\n",
              "      <td>0.000000</td>\n",
              "      <td>0.000000</td>\n",
              "      <td>ios</td>\n",
              "      <td>0.000000</td>\n",
              "      <td>14.938221</td>\n",
              "      <td>0.000000</td>\n",
              "      <td>14.938221</td>\n",
              "    </tr>\n",
              "    <tr>\n",
              "      <th>1467830</th>\n",
              "      <td>5.0</td>\n",
              "      <td>5.0</td>\n",
              "      <td>5.0</td>\n",
              "      <td>5.0</td>\n",
              "      <td>24</td>\n",
              "      <td>24</td>\n",
              "      <td>24</td>\n",
              "      <td>24</td>\n",
              "      <td>24</td>\n",
              "      <td>24</td>\n",
              "      <td>...</td>\n",
              "      <td>2021-12-30</td>\n",
              "      <td>COUNTRY_141</td>\n",
              "      <td>0.177550</td>\n",
              "      <td>0.177550</td>\n",
              "      <td>0.177550</td>\n",
              "      <td>ios</td>\n",
              "      <td>0.000000</td>\n",
              "      <td>7.402224</td>\n",
              "      <td>0.177550</td>\n",
              "      <td>7.579774</td>\n",
              "    </tr>\n",
              "    <tr>\n",
              "      <th>1467831</th>\n",
              "      <td>6.0</td>\n",
              "      <td>7.0</td>\n",
              "      <td>7.0</td>\n",
              "      <td>7.0</td>\n",
              "      <td>15</td>\n",
              "      <td>15</td>\n",
              "      <td>15</td>\n",
              "      <td>15</td>\n",
              "      <td>15</td>\n",
              "      <td>16</td>\n",
              "      <td>...</td>\n",
              "      <td>2021-12-30</td>\n",
              "      <td>COUNTRY_141</td>\n",
              "      <td>0.114909</td>\n",
              "      <td>0.114909</td>\n",
              "      <td>0.114909</td>\n",
              "      <td>android</td>\n",
              "      <td>0.000000</td>\n",
              "      <td>3.949385</td>\n",
              "      <td>0.114909</td>\n",
              "      <td>4.064295</td>\n",
              "    </tr>\n",
              "  </tbody>\n",
              "</table>\n",
              "<p>1467832 rows × 63 columns</p>\n",
              "</div>\n",
              "      <button class=\"colab-df-convert\" onclick=\"convertToInteractive('df-35f051a6-a10a-4c4d-8f61-ee8c757a92f9')\"\n",
              "              title=\"Convert this dataframe to an interactive table.\"\n",
              "              style=\"display:none;\">\n",
              "        \n",
              "  <svg xmlns=\"http://www.w3.org/2000/svg\" height=\"24px\"viewBox=\"0 0 24 24\"\n",
              "       width=\"24px\">\n",
              "    <path d=\"M0 0h24v24H0V0z\" fill=\"none\"/>\n",
              "    <path d=\"M18.56 5.44l.94 2.06.94-2.06 2.06-.94-2.06-.94-.94-2.06-.94 2.06-2.06.94zm-11 1L8.5 8.5l.94-2.06 2.06-.94-2.06-.94L8.5 2.5l-.94 2.06-2.06.94zm10 10l.94 2.06.94-2.06 2.06-.94-2.06-.94-.94-2.06-.94 2.06-2.06.94z\"/><path d=\"M17.41 7.96l-1.37-1.37c-.4-.4-.92-.59-1.43-.59-.52 0-1.04.2-1.43.59L10.3 9.45l-7.72 7.72c-.78.78-.78 2.05 0 2.83L4 21.41c.39.39.9.59 1.41.59.51 0 1.02-.2 1.41-.59l7.78-7.78 2.81-2.81c.8-.78.8-2.07 0-2.86zM5.41 20L4 18.59l7.72-7.72 1.47 1.35L5.41 20z\"/>\n",
              "  </svg>\n",
              "      </button>\n",
              "      \n",
              "  <style>\n",
              "    .colab-df-container {\n",
              "      display:flex;\n",
              "      flex-wrap:wrap;\n",
              "      gap: 12px;\n",
              "    }\n",
              "\n",
              "    .colab-df-convert {\n",
              "      background-color: #E8F0FE;\n",
              "      border: none;\n",
              "      border-radius: 50%;\n",
              "      cursor: pointer;\n",
              "      display: none;\n",
              "      fill: #1967D2;\n",
              "      height: 32px;\n",
              "      padding: 0 0 0 0;\n",
              "      width: 32px;\n",
              "    }\n",
              "\n",
              "    .colab-df-convert:hover {\n",
              "      background-color: #E2EBFA;\n",
              "      box-shadow: 0px 1px 2px rgba(60, 64, 67, 0.3), 0px 1px 3px 1px rgba(60, 64, 67, 0.15);\n",
              "      fill: #174EA6;\n",
              "    }\n",
              "\n",
              "    [theme=dark] .colab-df-convert {\n",
              "      background-color: #3B4455;\n",
              "      fill: #D2E3FC;\n",
              "    }\n",
              "\n",
              "    [theme=dark] .colab-df-convert:hover {\n",
              "      background-color: #434B5C;\n",
              "      box-shadow: 0px 1px 3px 1px rgba(0, 0, 0, 0.15);\n",
              "      filter: drop-shadow(0px 1px 2px rgba(0, 0, 0, 0.3));\n",
              "      fill: #FFFFFF;\n",
              "    }\n",
              "  </style>\n",
              "\n",
              "      <script>\n",
              "        const buttonEl =\n",
              "          document.querySelector('#df-35f051a6-a10a-4c4d-8f61-ee8c757a92f9 button.colab-df-convert');\n",
              "        buttonEl.style.display =\n",
              "          google.colab.kernel.accessAllowed ? 'block' : 'none';\n",
              "\n",
              "        async function convertToInteractive(key) {\n",
              "          const element = document.querySelector('#df-35f051a6-a10a-4c4d-8f61-ee8c757a92f9');\n",
              "          const dataTable =\n",
              "            await google.colab.kernel.invokeFunction('convertToInteractive',\n",
              "                                                     [key], {});\n",
              "          if (!dataTable) return;\n",
              "\n",
              "          const docLinkHtml = 'Like what you see? Visit the ' +\n",
              "            '<a target=\"_blank\" href=https://colab.research.google.com/notebooks/data_table.ipynb>data table notebook</a>'\n",
              "            + ' to learn more about interactive tables.';\n",
              "          element.innerHTML = '';\n",
              "          dataTable['output_type'] = 'display_data';\n",
              "          await google.colab.output.renderOutput(dataTable, element);\n",
              "          const docLink = document.createElement('div');\n",
              "          docLink.innerHTML = docLinkHtml;\n",
              "          element.appendChild(docLink);\n",
              "        }\n",
              "      </script>\n",
              "    </div>\n",
              "  </div>\n",
              "  "
            ]
          },
          "metadata": {},
          "execution_count": 4
        }
      ],
      "source": [
        "df = pd.read_csv('TEST TASK (dataset).csv')\n",
        "df"
      ]
    },
    {
      "cell_type": "markdown",
      "source": [
        "Підрахунок кількості пропусків у стовпцях"
      ],
      "metadata": {
        "id": "ymO-B0ic2n0I"
      }
    },
    {
      "cell_type": "code",
      "source": [
        "df.isna().sum()"
      ],
      "metadata": {
        "colab": {
          "base_uri": "https://localhost:8080/"
        },
        "id": "Eih6AyeLvQVO",
        "outputId": "e2b71aa8-b4f2-4d1d-9dc7-fe0eef1ff985"
      },
      "execution_count": 38,
      "outputs": [
        {
          "output_type": "execute_result",
          "data": {
            "text/plain": [
              "total_sessions_day0       1365\n",
              "total_sessions_day1       1367\n",
              "total_sessions_day3       1368\n",
              "total_sessions_day7       1374\n",
              "chapters_finished_day0       0\n",
              "                          ... \n",
              "platform                     0\n",
              "target_sub_ltv_day30         0\n",
              "target_iap_ltv_day30         0\n",
              "target_ad_ltv_day30          0\n",
              "target_full_ltv_day30        0\n",
              "Length: 63, dtype: int64"
            ]
          },
          "metadata": {},
          "execution_count": 38
        }
      ]
    },
    {
      "cell_type": "code",
      "source": [
        "df.describe()"
      ],
      "metadata": {
        "colab": {
          "base_uri": "https://localhost:8080/",
          "height": 394
        },
        "id": "b_m4Pp_WN3kV",
        "outputId": "b52828d8-ac83-40ee-c980-621de191fdb5"
      },
      "execution_count": 5,
      "outputs": [
        {
          "output_type": "execute_result",
          "data": {
            "text/plain": [
              "       total_sessions_day0  total_sessions_day1  total_sessions_day3  \\\n",
              "count         1.466467e+06         1.466465e+06         1.466464e+06   \n",
              "mean          1.847298e+00         2.193912e+00         2.608979e+00   \n",
              "std           2.530825e+00         3.621980e+00         5.347342e+00   \n",
              "min           0.000000e+00         0.000000e+00         0.000000e+00   \n",
              "25%           1.000000e+00         1.000000e+00         1.000000e+00   \n",
              "50%           1.000000e+00         1.000000e+00         1.000000e+00   \n",
              "75%           2.000000e+00         2.000000e+00         2.000000e+00   \n",
              "max           7.710000e+02         7.710000e+02         7.710000e+02   \n",
              "\n",
              "       total_sessions_day7  chapters_finished_day0  chapters_finished_day1  \\\n",
              "count         1.466458e+06            1.467832e+06            1.467832e+06   \n",
              "mean          3.113484e+00            1.234763e+00            1.498150e+00   \n",
              "std           7.888102e+00            3.048333e+00            3.975010e+00   \n",
              "min           0.000000e+00            0.000000e+00            0.000000e+00   \n",
              "25%           1.000000e+00            0.000000e+00            0.000000e+00   \n",
              "50%           1.000000e+00            0.000000e+00            0.000000e+00   \n",
              "75%           2.000000e+00            1.000000e+00            1.000000e+00   \n",
              "max           9.050000e+02            7.300000e+01            3.590000e+02   \n",
              "\n",
              "       chapters_finished_day3  chapters_finished_day7  chapters_opened_day0  \\\n",
              "count            1.467832e+06            1.467832e+06          1.467832e+06   \n",
              "mean             1.772233e+00            2.055170e+00          2.099693e+00   \n",
              "std              5.033945e+00            6.325564e+00          3.117375e+00   \n",
              "min              0.000000e+00            0.000000e+00          0.000000e+00   \n",
              "25%              0.000000e+00            0.000000e+00          1.000000e+00   \n",
              "50%              0.000000e+00            0.000000e+00          1.000000e+00   \n",
              "75%              1.000000e+00            1.000000e+00          2.000000e+00   \n",
              "max              3.600000e+02            3.600000e+02          7.700000e+01   \n",
              "\n",
              "       chapters_opened_day1  ...  app_iap_ltv_day0  app_iap_ltv_day1  \\\n",
              "count          1.467832e+06  ...      1.467832e+06      1.467832e+06   \n",
              "mean           2.382293e+00  ...      1.022759e-01      1.261447e-01   \n",
              "std            4.077269e+00  ...      7.672101e-01      9.683484e-01   \n",
              "min            0.000000e+00  ...      0.000000e+00      0.000000e+00   \n",
              "25%            1.000000e+00  ...      0.000000e+00      0.000000e+00   \n",
              "50%            1.000000e+00  ...      0.000000e+00      0.000000e+00   \n",
              "75%            2.000000e+00  ...      0.000000e+00      0.000000e+00   \n",
              "max            3.600000e+02  ...      4.621191e+01      1.391509e+02   \n",
              "\n",
              "       app_iap_ltv_day3   ad_ltv_day0   ad_ltv_day1   ad_ltv_day3  \\\n",
              "count      1.467832e+06  1.467832e+06  1.467832e+06  1.467832e+06   \n",
              "mean       1.496395e-01  8.968177e-03  1.090574e-02  1.325368e-02   \n",
              "std        1.176394e+00  4.453546e-02  6.009280e-02  7.472105e-02   \n",
              "min        0.000000e+00  0.000000e+00  0.000000e+00  0.000000e+00   \n",
              "25%        0.000000e+00  0.000000e+00  0.000000e+00  0.000000e+00   \n",
              "50%        0.000000e+00  0.000000e+00  0.000000e+00  0.000000e+00   \n",
              "75%        0.000000e+00  0.000000e+00  0.000000e+00  0.000000e+00   \n",
              "max        1.391509e+02  3.782356e+00  1.974900e+01  1.997062e+01   \n",
              "\n",
              "       target_sub_ltv_day30  target_iap_ltv_day30  target_ad_ltv_day30  \\\n",
              "count          1.467832e+06          1.467832e+06         1.467832e+06   \n",
              "mean           2.203037e-02          2.139268e-01         2.091572e-02   \n",
              "std            3.088758e-01          2.097916e+00         1.601929e-01   \n",
              "min           -2.829604e+00          0.000000e+00         0.000000e+00   \n",
              "25%            0.000000e+00          0.000000e+00         0.000000e+00   \n",
              "50%            0.000000e+00          0.000000e+00         0.000000e+00   \n",
              "75%            0.000000e+00          0.000000e+00         0.000000e+00   \n",
              "max            4.545741e+01          2.687878e+02         3.393084e+01   \n",
              "\n",
              "       target_full_ltv_day30  \n",
              "count           1.467832e+06  \n",
              "mean            2.568728e-01  \n",
              "std             2.274466e+00  \n",
              "min            -2.777195e+00  \n",
              "25%             0.000000e+00  \n",
              "50%             0.000000e+00  \n",
              "75%             0.000000e+00  \n",
              "max             2.720042e+02  \n",
              "\n",
              "[8 rows x 59 columns]"
            ],
            "text/html": [
              "\n",
              "  <div id=\"df-c5de1acf-e7ab-4730-a92f-6fe76098ce47\">\n",
              "    <div class=\"colab-df-container\">\n",
              "      <div>\n",
              "<style scoped>\n",
              "    .dataframe tbody tr th:only-of-type {\n",
              "        vertical-align: middle;\n",
              "    }\n",
              "\n",
              "    .dataframe tbody tr th {\n",
              "        vertical-align: top;\n",
              "    }\n",
              "\n",
              "    .dataframe thead th {\n",
              "        text-align: right;\n",
              "    }\n",
              "</style>\n",
              "<table border=\"1\" class=\"dataframe\">\n",
              "  <thead>\n",
              "    <tr style=\"text-align: right;\">\n",
              "      <th></th>\n",
              "      <th>total_sessions_day0</th>\n",
              "      <th>total_sessions_day1</th>\n",
              "      <th>total_sessions_day3</th>\n",
              "      <th>total_sessions_day7</th>\n",
              "      <th>chapters_finished_day0</th>\n",
              "      <th>chapters_finished_day1</th>\n",
              "      <th>chapters_finished_day3</th>\n",
              "      <th>chapters_finished_day7</th>\n",
              "      <th>chapters_opened_day0</th>\n",
              "      <th>chapters_opened_day1</th>\n",
              "      <th>...</th>\n",
              "      <th>app_iap_ltv_day0</th>\n",
              "      <th>app_iap_ltv_day1</th>\n",
              "      <th>app_iap_ltv_day3</th>\n",
              "      <th>ad_ltv_day0</th>\n",
              "      <th>ad_ltv_day1</th>\n",
              "      <th>ad_ltv_day3</th>\n",
              "      <th>target_sub_ltv_day30</th>\n",
              "      <th>target_iap_ltv_day30</th>\n",
              "      <th>target_ad_ltv_day30</th>\n",
              "      <th>target_full_ltv_day30</th>\n",
              "    </tr>\n",
              "  </thead>\n",
              "  <tbody>\n",
              "    <tr>\n",
              "      <th>count</th>\n",
              "      <td>1.466467e+06</td>\n",
              "      <td>1.466465e+06</td>\n",
              "      <td>1.466464e+06</td>\n",
              "      <td>1.466458e+06</td>\n",
              "      <td>1.467832e+06</td>\n",
              "      <td>1.467832e+06</td>\n",
              "      <td>1.467832e+06</td>\n",
              "      <td>1.467832e+06</td>\n",
              "      <td>1.467832e+06</td>\n",
              "      <td>1.467832e+06</td>\n",
              "      <td>...</td>\n",
              "      <td>1.467832e+06</td>\n",
              "      <td>1.467832e+06</td>\n",
              "      <td>1.467832e+06</td>\n",
              "      <td>1.467832e+06</td>\n",
              "      <td>1.467832e+06</td>\n",
              "      <td>1.467832e+06</td>\n",
              "      <td>1.467832e+06</td>\n",
              "      <td>1.467832e+06</td>\n",
              "      <td>1.467832e+06</td>\n",
              "      <td>1.467832e+06</td>\n",
              "    </tr>\n",
              "    <tr>\n",
              "      <th>mean</th>\n",
              "      <td>1.847298e+00</td>\n",
              "      <td>2.193912e+00</td>\n",
              "      <td>2.608979e+00</td>\n",
              "      <td>3.113484e+00</td>\n",
              "      <td>1.234763e+00</td>\n",
              "      <td>1.498150e+00</td>\n",
              "      <td>1.772233e+00</td>\n",
              "      <td>2.055170e+00</td>\n",
              "      <td>2.099693e+00</td>\n",
              "      <td>2.382293e+00</td>\n",
              "      <td>...</td>\n",
              "      <td>1.022759e-01</td>\n",
              "      <td>1.261447e-01</td>\n",
              "      <td>1.496395e-01</td>\n",
              "      <td>8.968177e-03</td>\n",
              "      <td>1.090574e-02</td>\n",
              "      <td>1.325368e-02</td>\n",
              "      <td>2.203037e-02</td>\n",
              "      <td>2.139268e-01</td>\n",
              "      <td>2.091572e-02</td>\n",
              "      <td>2.568728e-01</td>\n",
              "    </tr>\n",
              "    <tr>\n",
              "      <th>std</th>\n",
              "      <td>2.530825e+00</td>\n",
              "      <td>3.621980e+00</td>\n",
              "      <td>5.347342e+00</td>\n",
              "      <td>7.888102e+00</td>\n",
              "      <td>3.048333e+00</td>\n",
              "      <td>3.975010e+00</td>\n",
              "      <td>5.033945e+00</td>\n",
              "      <td>6.325564e+00</td>\n",
              "      <td>3.117375e+00</td>\n",
              "      <td>4.077269e+00</td>\n",
              "      <td>...</td>\n",
              "      <td>7.672101e-01</td>\n",
              "      <td>9.683484e-01</td>\n",
              "      <td>1.176394e+00</td>\n",
              "      <td>4.453546e-02</td>\n",
              "      <td>6.009280e-02</td>\n",
              "      <td>7.472105e-02</td>\n",
              "      <td>3.088758e-01</td>\n",
              "      <td>2.097916e+00</td>\n",
              "      <td>1.601929e-01</td>\n",
              "      <td>2.274466e+00</td>\n",
              "    </tr>\n",
              "    <tr>\n",
              "      <th>min</th>\n",
              "      <td>0.000000e+00</td>\n",
              "      <td>0.000000e+00</td>\n",
              "      <td>0.000000e+00</td>\n",
              "      <td>0.000000e+00</td>\n",
              "      <td>0.000000e+00</td>\n",
              "      <td>0.000000e+00</td>\n",
              "      <td>0.000000e+00</td>\n",
              "      <td>0.000000e+00</td>\n",
              "      <td>0.000000e+00</td>\n",
              "      <td>0.000000e+00</td>\n",
              "      <td>...</td>\n",
              "      <td>0.000000e+00</td>\n",
              "      <td>0.000000e+00</td>\n",
              "      <td>0.000000e+00</td>\n",
              "      <td>0.000000e+00</td>\n",
              "      <td>0.000000e+00</td>\n",
              "      <td>0.000000e+00</td>\n",
              "      <td>-2.829604e+00</td>\n",
              "      <td>0.000000e+00</td>\n",
              "      <td>0.000000e+00</td>\n",
              "      <td>-2.777195e+00</td>\n",
              "    </tr>\n",
              "    <tr>\n",
              "      <th>25%</th>\n",
              "      <td>1.000000e+00</td>\n",
              "      <td>1.000000e+00</td>\n",
              "      <td>1.000000e+00</td>\n",
              "      <td>1.000000e+00</td>\n",
              "      <td>0.000000e+00</td>\n",
              "      <td>0.000000e+00</td>\n",
              "      <td>0.000000e+00</td>\n",
              "      <td>0.000000e+00</td>\n",
              "      <td>1.000000e+00</td>\n",
              "      <td>1.000000e+00</td>\n",
              "      <td>...</td>\n",
              "      <td>0.000000e+00</td>\n",
              "      <td>0.000000e+00</td>\n",
              "      <td>0.000000e+00</td>\n",
              "      <td>0.000000e+00</td>\n",
              "      <td>0.000000e+00</td>\n",
              "      <td>0.000000e+00</td>\n",
              "      <td>0.000000e+00</td>\n",
              "      <td>0.000000e+00</td>\n",
              "      <td>0.000000e+00</td>\n",
              "      <td>0.000000e+00</td>\n",
              "    </tr>\n",
              "    <tr>\n",
              "      <th>50%</th>\n",
              "      <td>1.000000e+00</td>\n",
              "      <td>1.000000e+00</td>\n",
              "      <td>1.000000e+00</td>\n",
              "      <td>1.000000e+00</td>\n",
              "      <td>0.000000e+00</td>\n",
              "      <td>0.000000e+00</td>\n",
              "      <td>0.000000e+00</td>\n",
              "      <td>0.000000e+00</td>\n",
              "      <td>1.000000e+00</td>\n",
              "      <td>1.000000e+00</td>\n",
              "      <td>...</td>\n",
              "      <td>0.000000e+00</td>\n",
              "      <td>0.000000e+00</td>\n",
              "      <td>0.000000e+00</td>\n",
              "      <td>0.000000e+00</td>\n",
              "      <td>0.000000e+00</td>\n",
              "      <td>0.000000e+00</td>\n",
              "      <td>0.000000e+00</td>\n",
              "      <td>0.000000e+00</td>\n",
              "      <td>0.000000e+00</td>\n",
              "      <td>0.000000e+00</td>\n",
              "    </tr>\n",
              "    <tr>\n",
              "      <th>75%</th>\n",
              "      <td>2.000000e+00</td>\n",
              "      <td>2.000000e+00</td>\n",
              "      <td>2.000000e+00</td>\n",
              "      <td>2.000000e+00</td>\n",
              "      <td>1.000000e+00</td>\n",
              "      <td>1.000000e+00</td>\n",
              "      <td>1.000000e+00</td>\n",
              "      <td>1.000000e+00</td>\n",
              "      <td>2.000000e+00</td>\n",
              "      <td>2.000000e+00</td>\n",
              "      <td>...</td>\n",
              "      <td>0.000000e+00</td>\n",
              "      <td>0.000000e+00</td>\n",
              "      <td>0.000000e+00</td>\n",
              "      <td>0.000000e+00</td>\n",
              "      <td>0.000000e+00</td>\n",
              "      <td>0.000000e+00</td>\n",
              "      <td>0.000000e+00</td>\n",
              "      <td>0.000000e+00</td>\n",
              "      <td>0.000000e+00</td>\n",
              "      <td>0.000000e+00</td>\n",
              "    </tr>\n",
              "    <tr>\n",
              "      <th>max</th>\n",
              "      <td>7.710000e+02</td>\n",
              "      <td>7.710000e+02</td>\n",
              "      <td>7.710000e+02</td>\n",
              "      <td>9.050000e+02</td>\n",
              "      <td>7.300000e+01</td>\n",
              "      <td>3.590000e+02</td>\n",
              "      <td>3.600000e+02</td>\n",
              "      <td>3.600000e+02</td>\n",
              "      <td>7.700000e+01</td>\n",
              "      <td>3.600000e+02</td>\n",
              "      <td>...</td>\n",
              "      <td>4.621191e+01</td>\n",
              "      <td>1.391509e+02</td>\n",
              "      <td>1.391509e+02</td>\n",
              "      <td>3.782356e+00</td>\n",
              "      <td>1.974900e+01</td>\n",
              "      <td>1.997062e+01</td>\n",
              "      <td>4.545741e+01</td>\n",
              "      <td>2.687878e+02</td>\n",
              "      <td>3.393084e+01</td>\n",
              "      <td>2.720042e+02</td>\n",
              "    </tr>\n",
              "  </tbody>\n",
              "</table>\n",
              "<p>8 rows × 59 columns</p>\n",
              "</div>\n",
              "      <button class=\"colab-df-convert\" onclick=\"convertToInteractive('df-c5de1acf-e7ab-4730-a92f-6fe76098ce47')\"\n",
              "              title=\"Convert this dataframe to an interactive table.\"\n",
              "              style=\"display:none;\">\n",
              "        \n",
              "  <svg xmlns=\"http://www.w3.org/2000/svg\" height=\"24px\"viewBox=\"0 0 24 24\"\n",
              "       width=\"24px\">\n",
              "    <path d=\"M0 0h24v24H0V0z\" fill=\"none\"/>\n",
              "    <path d=\"M18.56 5.44l.94 2.06.94-2.06 2.06-.94-2.06-.94-.94-2.06-.94 2.06-2.06.94zm-11 1L8.5 8.5l.94-2.06 2.06-.94-2.06-.94L8.5 2.5l-.94 2.06-2.06.94zm10 10l.94 2.06.94-2.06 2.06-.94-2.06-.94-.94-2.06-.94 2.06-2.06.94z\"/><path d=\"M17.41 7.96l-1.37-1.37c-.4-.4-.92-.59-1.43-.59-.52 0-1.04.2-1.43.59L10.3 9.45l-7.72 7.72c-.78.78-.78 2.05 0 2.83L4 21.41c.39.39.9.59 1.41.59.51 0 1.02-.2 1.41-.59l7.78-7.78 2.81-2.81c.8-.78.8-2.07 0-2.86zM5.41 20L4 18.59l7.72-7.72 1.47 1.35L5.41 20z\"/>\n",
              "  </svg>\n",
              "      </button>\n",
              "      \n",
              "  <style>\n",
              "    .colab-df-container {\n",
              "      display:flex;\n",
              "      flex-wrap:wrap;\n",
              "      gap: 12px;\n",
              "    }\n",
              "\n",
              "    .colab-df-convert {\n",
              "      background-color: #E8F0FE;\n",
              "      border: none;\n",
              "      border-radius: 50%;\n",
              "      cursor: pointer;\n",
              "      display: none;\n",
              "      fill: #1967D2;\n",
              "      height: 32px;\n",
              "      padding: 0 0 0 0;\n",
              "      width: 32px;\n",
              "    }\n",
              "\n",
              "    .colab-df-convert:hover {\n",
              "      background-color: #E2EBFA;\n",
              "      box-shadow: 0px 1px 2px rgba(60, 64, 67, 0.3), 0px 1px 3px 1px rgba(60, 64, 67, 0.15);\n",
              "      fill: #174EA6;\n",
              "    }\n",
              "\n",
              "    [theme=dark] .colab-df-convert {\n",
              "      background-color: #3B4455;\n",
              "      fill: #D2E3FC;\n",
              "    }\n",
              "\n",
              "    [theme=dark] .colab-df-convert:hover {\n",
              "      background-color: #434B5C;\n",
              "      box-shadow: 0px 1px 3px 1px rgba(0, 0, 0, 0.15);\n",
              "      filter: drop-shadow(0px 1px 2px rgba(0, 0, 0, 0.3));\n",
              "      fill: #FFFFFF;\n",
              "    }\n",
              "  </style>\n",
              "\n",
              "      <script>\n",
              "        const buttonEl =\n",
              "          document.querySelector('#df-c5de1acf-e7ab-4730-a92f-6fe76098ce47 button.colab-df-convert');\n",
              "        buttonEl.style.display =\n",
              "          google.colab.kernel.accessAllowed ? 'block' : 'none';\n",
              "\n",
              "        async function convertToInteractive(key) {\n",
              "          const element = document.querySelector('#df-c5de1acf-e7ab-4730-a92f-6fe76098ce47');\n",
              "          const dataTable =\n",
              "            await google.colab.kernel.invokeFunction('convertToInteractive',\n",
              "                                                     [key], {});\n",
              "          if (!dataTable) return;\n",
              "\n",
              "          const docLinkHtml = 'Like what you see? Visit the ' +\n",
              "            '<a target=\"_blank\" href=https://colab.research.google.com/notebooks/data_table.ipynb>data table notebook</a>'\n",
              "            + ' to learn more about interactive tables.';\n",
              "          element.innerHTML = '';\n",
              "          dataTable['output_type'] = 'display_data';\n",
              "          await google.colab.output.renderOutput(dataTable, element);\n",
              "          const docLink = document.createElement('div');\n",
              "          docLink.innerHTML = docLinkHtml;\n",
              "          element.appendChild(docLink);\n",
              "        }\n",
              "      </script>\n",
              "    </div>\n",
              "  </div>\n",
              "  "
            ]
          },
          "metadata": {},
          "execution_count": 5
        }
      ]
    },
    {
      "cell_type": "markdown",
      "source": [
        "Дані доволі непогано розподілені, скоріш за все є трохи викидів, що потребує подальшого аналізу"
      ],
      "metadata": {
        "id": "GQNIMpnk6F1D"
      }
    },
    {
      "cell_type": "markdown",
      "source": [
        "Аналіз категоріальних фіч"
      ],
      "metadata": {
        "id": "yDVBj8ob3R6O"
      }
    },
    {
      "cell_type": "code",
      "source": [
        "df['media_source'].value_counts()"
      ],
      "metadata": {
        "colab": {
          "base_uri": "https://localhost:8080/"
        },
        "id": "jcRRAkZMjOpv",
        "outputId": "11ad0163-d227-4de5-82f7-5e25fb4fb260"
      },
      "execution_count": 8,
      "outputs": [
        {
          "output_type": "execute_result",
          "data": {
            "text/plain": [
              "SOURCE_4     728958\n",
              "SOURCE_17    318634\n",
              "SOURCE_23    238587\n",
              "SOURCE_2      63236\n",
              "SOURCE_10     23961\n",
              "SOURCE_12     23442\n",
              "SOURCE_1      23391\n",
              "SOURCE_6      14470\n",
              "SOURCE_19     10511\n",
              "SOURCE_5       7564\n",
              "SOURCE_9       4574\n",
              "SOURCE_18      3716\n",
              "SOURCE_16      3354\n",
              "SOURCE_14      2168\n",
              "SOURCE_7        866\n",
              "SOURCE_3        194\n",
              "SOURCE_15        74\n",
              "SOURCE_8         46\n",
              "SOURCE_11        25\n",
              "SOURCE_22        23\n",
              "SOURCE_21        21\n",
              "SOURCE_0         13\n",
              "SOURCE_20         2\n",
              "SOURCE_13         2\n",
              "Name: media_source, dtype: int64"
            ]
          },
          "metadata": {},
          "execution_count": 8
        }
      ]
    },
    {
      "cell_type": "code",
      "execution_count": 9,
      "metadata": {
        "colab": {
          "base_uri": "https://localhost:8080/"
        },
        "id": "72ea39f1",
        "outputId": "8e39a068-53b2-4c23-e063-f2698125ac2e"
      },
      "outputs": [
        {
          "output_type": "execute_result",
          "data": {
            "text/plain": [
              "COUNTRY_141    387761\n",
              "COUNTRY_13     260238\n",
              "COUNTRY_155    152936\n",
              "COUNTRY_108    114661\n",
              "COUNTRY_35     111007\n",
              "                ...  \n",
              "COUNTRY_73          1\n",
              "COUNTRY_10          1\n",
              "COUNTRY_151         1\n",
              "COUNTRY_175         1\n",
              "COUNTRY_37          1\n",
              "Name: country_code, Length: 224, dtype: int64"
            ]
          },
          "metadata": {},
          "execution_count": 9
        }
      ],
      "source": [
        "df['country_code'].value_counts()"
      ]
    },
    {
      "cell_type": "code",
      "execution_count": 10,
      "metadata": {
        "colab": {
          "base_uri": "https://localhost:8080/"
        },
        "id": "674e069e",
        "outputId": "b96e9b8a-0a9a-419c-d86f-9981d302824e"
      },
      "outputs": [
        {
          "output_type": "execute_result",
          "data": {
            "text/plain": [
              "android    887426\n",
              "ios        580406\n",
              "Name: platform, dtype: int64"
            ]
          },
          "metadata": {},
          "execution_count": 10
        }
      ],
      "source": [
        "df['platform'].value_counts()"
      ]
    },
    {
      "cell_type": "code",
      "execution_count": 11,
      "metadata": {
        "colab": {
          "base_uri": "https://localhost:8080/"
        },
        "id": "9fa800de",
        "outputId": "75da0cfb-21a5-4ac5-81f2-075ed05e1063"
      },
      "outputs": [
        {
          "output_type": "execute_result",
          "data": {
            "text/plain": [
              "2021-12-30    94101\n",
              "2021-12-29    73435\n",
              "2021-12-31    64204\n",
              "2021-12-21    60170\n",
              "2021-12-26    59902\n",
              "              ...  \n",
              "2021-12-05     6898\n",
              "2021-12-04     6677\n",
              "2021-12-03     6268\n",
              "2021-12-07     6198\n",
              "2021-12-06     5587\n",
              "Name: install_date, Length: 62, dtype: int64"
            ]
          },
          "metadata": {},
          "execution_count": 11
        }
      ],
      "source": [
        "df['install_date'].value_counts()"
      ]
    },
    {
      "cell_type": "markdown",
      "source": [
        "Кореляційні матриці"
      ],
      "metadata": {
        "id": "CwQmX4_s3eAx"
      }
    },
    {
      "cell_type": "code",
      "source": [
        "sb.heatmap(df.corr(method=\"pearson\"))"
      ],
      "metadata": {
        "colab": {
          "base_uri": "https://localhost:8080/",
          "height": 413
        },
        "id": "Mh6OCJVP9ShS",
        "outputId": "dec72cb4-c4ac-4625-a705-b4d3eb764685"
      },
      "execution_count": 42,
      "outputs": [
        {
          "output_type": "execute_result",
          "data": {
            "text/plain": [
              "<matplotlib.axes._subplots.AxesSubplot at 0x7f9db578ce50>"
            ]
          },
          "metadata": {},
          "execution_count": 42
        },
        {
          "output_type": "display_data",
          "data": {
            "text/plain": [
              "<Figure size 432x288 with 2 Axes>"
            ],
            "image/png": "[encoded data removed]"
          },
          "metadata": {
            "needs_background": "light"
          }
        }
      ]
    },
    {
      "cell_type": "code",
      "source": [
        "sb.heatmap(df.corr(method=\"kendall\"))"
      ],
      "metadata": {
        "colab": {
          "base_uri": "https://localhost:8080/",
          "height": 448
        },
        "id": "8Q0e58k7jcwV",
        "outputId": "096d7c3f-92d4-49e3-c30a-24e3126a010f"
      },
      "execution_count": 40,
      "outputs": [
        {
          "output_type": "stream",
          "name": "stderr",
          "text": [
            "/usr/local/lib/python3.7/dist-packages/scipy/stats/stats.py:4812: RuntimeWarning: overflow encountered in long_scalars\n",
            "  (2 * xtie * ytie) / m + x0 * y0 / (9 * m * (size - 2)))\n"
          ]
        },
        {
          "output_type": "execute_result",
          "data": {
            "text/plain": [
              "<matplotlib.axes._subplots.AxesSubplot at 0x7f9db5915ed0>"
            ]
          },
          "metadata": {},
          "execution_count": 40
        },
        {
          "output_type": "display_data",
          "data": {
            "text/plain": [
              "<Figure size 432x288 with 2 Axes>"
            ],
            "image/png": "[encoded data removed]"
          },
          "metadata": {
            "needs_background": "light"
          }
        }
      ]
    },
    {
      "cell_type": "code",
      "source": [
        "sb.heatmap(df.corr(method=\"spearman\"))"
      ],
      "metadata": {
        "colab": {
          "base_uri": "https://localhost:8080/",
          "height": 413
        },
        "id": "ANxfTwjL9K5B",
        "outputId": "f87db8e5-f9ee-4f22-ad6c-67fc6b14555b"
      },
      "execution_count": 41,
      "outputs": [
        {
          "output_type": "execute_result",
          "data": {
            "text/plain": [
              "<matplotlib.axes._subplots.AxesSubplot at 0x7f9db58069d0>"
            ]
          },
          "metadata": {},
          "execution_count": 41
        },
        {
          "output_type": "display_data",
          "data": {
            "text/plain": [
              "<Figure size 432x288 with 2 Axes>"
            ],
            "image/png": "[encoded data removed]"
          },
          "metadata": {
            "needs_background": "light"
          }
        }
      ]
    },
    {
      "cell_type": "markdown",
      "source": [
        "Наявна кореляція між багатьма фічами.\n",
        "\n",
        "Кореляція між \"target\" змінними та фічами скоріш за все нелінійна, тому було вирішено взяти нелінійну модель.\n"
      ],
      "metadata": {
        "id": "RSDOtNHt7bUf"
      }
    },
    {
      "cell_type": "markdown",
      "source": [
        "Розподіл цільової змінної"
      ],
      "metadata": {
        "id": "Vv2Bu0k83pkE"
      }
    },
    {
      "cell_type": "code",
      "source": [
        "sb.distplot(df[\"target_full_ltv_day30\"], hist=False)"
      ],
      "metadata": {
        "colab": {
          "base_uri": "https://localhost:8080/",
          "height": 352
        },
        "id": "iOg93GLplBoK",
        "outputId": "01df67f5-1925-478e-f6d9-84cc23717fe7"
      },
      "execution_count": 44,
      "outputs": [
        {
          "output_type": "stream",
          "name": "stderr",
          "text": [
            "/usr/local/lib/python3.7/dist-packages/seaborn/distributions.py:2619: FutureWarning: `distplot` is a deprecated function and will be removed in a future version. Please adapt your code to use either `displot` (a figure-level function with similar flexibility) or `kdeplot` (an axes-level function for kernel density plots).\n",
            "  warnings.warn(msg, FutureWarning)\n"
          ]
        },
        {
          "output_type": "execute_result",
          "data": {
            "text/plain": [
              "<matplotlib.axes._subplots.AxesSubplot at 0x7f9db5634150>"
            ]
          },
          "metadata": {},
          "execution_count": 44
        },
        {
          "output_type": "display_data",
          "data": {
            "text/plain": [
              "<Figure size 432x288 with 1 Axes>"
            ],
            "image/png": "[encoded data removed]"
          },
          "metadata": {
            "needs_background": "light"
          }
        }
      ]
    },
    {
      "cell_type": "markdown",
      "source": [
        "Цільова змінна погано розподіленна. Є сенс перевірити її на викиди та підрахувати кількість нульових значень"
      ],
      "metadata": {
        "id": "3xg13oju9k_t"
      }
    },
    {
      "cell_type": "markdown",
      "source": [
        "Підрахунок нульовох значень у \"target\" стовпцях"
      ],
      "metadata": {
        "id": "n7BcZOLB3wA3"
      }
    },
    {
      "cell_type": "code",
      "source": [
        "def count_zeros(column):\n",
        "  y = df[column]\n",
        "  print(column)\n",
        "  print(f\"Nuмber of zeros:     {sum(y==0)}\")\n",
        "  print(f\"Nuмber of non-zeros: {sum(y!=0)}\")\n",
        "  print()\n",
        "\n",
        "count_zeros(\"target_sub_ltv_day30\")\n",
        "count_zeros(\"target_iap_ltv_day30\")\n",
        "count_zeros(\"target_ad_ltv_day30\")\n",
        "count_zeros(\"target_full_ltv_day30\")"
      ],
      "metadata": {
        "colab": {
          "base_uri": "https://localhost:8080/"
        },
        "id": "OEfU9JMqmFks",
        "outputId": "91f16d88-a171-4b28-f930-86746df3b6b7"
      },
      "execution_count": 25,
      "outputs": [
        {
          "output_type": "stream",
          "name": "stdout",
          "text": [
            "target_sub_ltv_day30\n",
            "Nuмber of zeros:     1453921\n",
            "Nuмber of non-zeros: 13911\n",
            "\n",
            "target_iap_ltv_day30\n",
            "Nuмber of zeros:     1389600\n",
            "Nuмber of non-zeros: 78232\n",
            "\n",
            "target_ad_ltv_day30\n",
            "Nuмber of zeros:     1144882\n",
            "Nuмber of non-zeros: 322950\n",
            "\n",
            "target_full_ltv_day30\n",
            "Nuмber of zeros:     1124539\n",
            "Nuмber of non-zeros: 343293\n",
            "\n"
          ]
        }
      ]
    },
    {
      "cell_type": "markdown",
      "source": [
        "Як видно з результату в усіх \"target\" стовпцях відсоток нульових значень дуже високий. Є сенс вважати, що цільова змінна розподілена в околі нуля, а значення більші за якесь фіксоване значення є викидами.\n",
        "З огляду на постановку задачі великі значення цільової змінної можна вважати викидами, якщо загальний дохід від них не є значущим, що буде перевірено далі."
      ],
      "metadata": {
        "id": "aWwfHZIH95YV"
      }
    },
    {
      "cell_type": "markdown",
      "source": [
        "З розподілу цільової змінної робимо висновок, що первірку доцільно робити на рівні 25 доларів"
      ],
      "metadata": {
        "id": "HMCeaWyQBRHm"
      }
    },
    {
      "cell_type": "markdown",
      "source": [
        "Загальна сума доходів менше 25 доларів і більше 25 доларів(Перевірка великих значень доходів на викиди) "
      ],
      "metadata": {
        "id": "93MNZZKM4ns4"
      }
    },
    {
      "cell_type": "code",
      "source": [
        "def sum_updown_point(column, point=25):\n",
        "  y = df[column]\n",
        "  print(column)\n",
        "  print(f\"Maximum value: {y.max()}\")\n",
        "  print(f\"Sum values under {point}:  {y[y<point].sum()}\")\n",
        "  print(f\"Sum values above {point}:  {y[y>point].sum()}\")\n",
        "  print()\n",
        "\n",
        "sum_updown_point(\"target_sub_ltv_day30\")\n",
        "sum_updown_point(\"target_iap_ltv_day30\")\n",
        "sum_updown_point(\"target_ad_ltv_day30\")\n",
        "sum_updown_point(\"target_full_ltv_day30\")"
      ],
      "metadata": {
        "colab": {
          "base_uri": "https://localhost:8080/"
        },
        "id": "ACozfv_CrFPs",
        "outputId": "07c0f635-d74f-4575-b51b-52b00a0cdd20"
      },
      "execution_count": 45,
      "outputs": [
        {
          "output_type": "stream",
          "name": "stdout",
          "text": [
            "target_sub_ltv_day30\n",
            "Maximum value: 45.457412416199645\n",
            "Sum values under 25:  32199.60115732849\n",
            "Sum values above 25:  137.2857435252095\n",
            "\n",
            "target_iap_ltv_day30\n",
            "Maximum value: 268.7877593210775\n",
            "Sum values under 25:  247468.25447892028\n",
            "Sum values above 25:  66540.28015608393\n",
            "\n",
            "target_ad_ltv_day30\n",
            "Maximum value: 33.93083837431956\n",
            "Sum values under 25:  30609.022251654387\n",
            "Sum values above 25:  91.74449697802851\n",
            "\n",
            "target_full_ltv_day30\n",
            "Maximum value: 272.0042118142524\n",
            "Sum values under 25:  298970.0485720524\n",
            "Sum values above 25:  78076.13971243778\n",
            "\n"
          ]
        }
      ]
    },
    {
      "cell_type": "markdown",
      "source": [
        "Для стовпців \"target_sub_ltv_day30\" та \"target_ad_ltv_day30\" можна вважати великі значення(більше 25) викидами.\n",
        "\n",
        "Для стовпців \"target_iap_ltv_day30\" та \"target_full_ltv_day30\"(цільова змінна) -- не можна"
      ],
      "metadata": {
        "id": "me_iD5h-_0LH"
      }
    },
    {
      "cell_type": "markdown",
      "source": [
        "# END"
      ],
      "metadata": {
        "id": "_HRIl1P3Cgwo"
      }
    }
  ]
}